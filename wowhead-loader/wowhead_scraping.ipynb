{
 "cells": [
  {
   "cell_type": "code",
   "execution_count": 1,
   "metadata": {},
   "outputs": [],
   "source": [
    "import re\n",
    "import requests\n",
    "\n",
    "from tradeskill_reader import Item, Recipe, Misc\n",
    "from tqdm.notebook import tqdm\n",
    "from json import loads"
   ]
  },
  {
   "attachments": {},
   "cell_type": "markdown",
   "metadata": {},
   "source": [
    "### The full pipeline is as follows:\n",
    "1. We find wowhead's list of all recipes.\n",
    "2. We scrape the recipes and save them in a list. Because the page includes all `cooking spells`, we have to filter out the ones that are not recipes.\n",
    "3. We create a Recipe object with information on the recipe id, spell id, name and reagents.\n",
    "\n",
    "4. Then we create a list of all reagent ids that are used in the recipes.\n",
    "5. We scrape wowhead for the name of each reagent.\n",
    "6. And additionally find the mobs that drop each reagent. We specifically filter out the mobs that have a drop chance of less than 10%.\n",
    "7. We save the reagent id, name and the mobs that drop it in a dictionary.\n",
    "\n",
    "8. Then, for each recipe, we scrape wowhead for its page.\n",
    "9. We find the buff that the recipe gives and save it in a file.\n",
    "10. This buff is then inputted into the Recipe object.\n",
    "\n",
    "11. We crate a LUA file that contains all the recipes and the relevant information.\n",
    "12. We also create a LUA file that contains all the reagents and the relevant information."
   ]
  },
  {
   "attachments": {},
   "cell_type": "markdown",
   "metadata": {},
   "source": [
    "### Read the recipe database from wow-head."
   ]
  },
  {
   "cell_type": "code",
   "execution_count": 2,
   "metadata": {},
   "outputs": [],
   "source": [
    "profession_collection = \"https://www.wowhead.com/classic/spells/secondary-skills/cooking#0+17+18+1\"\n",
    "# profession_collection = \"https://www.wowhead.com/wotlk/spells/secondary-skills/cooking#0+17\"\n",
    "\n",
    "req = requests.get(profession_collection, 'html.parser')\n",
    "\n",
    "spells = re.findall(\"var listviewspells = \\[(.*?)\\];\", req.text)[0]\n",
    "spells = re.findall(\"\\{(.*?)\\}\", spells)"
   ]
  },
  {
   "attachments": {},
   "cell_type": "markdown",
   "metadata": {},
   "source": [
    "### Create unique lists of all recipes and ingredients used in the them."
   ]
  },
  {
   "cell_type": "code",
   "execution_count": 3,
   "metadata": {},
   "outputs": [
    {
     "name": "stdout",
     "output_type": "stream",
     "text": [
      "Found 81 recipes and 89 unique ingredients.\n"
     ]
    }
   ],
   "source": [
    "reagent_list = []\n",
    "recipe_list = []\n",
    "\n",
    "for spell in spells:\n",
    "    recipe = Recipe.read(spell)\n",
    "    \n",
    "    # Skip misc spells (Cooking Fire, etc.)\n",
    "    if isinstance(recipe, Misc):\n",
    "        continue\n",
    "    \n",
    "    recipe_list.append(Recipe.read(spell)) # Save the recipe.\n",
    "    # Make a list of all ingredient ids that were found\n",
    "    reagent_list.extend([reagent_id for reagent_id, _ in recipe.reagents])\n",
    "\n",
    "# Then keep all of the unique ingredients.\n",
    "reagentid_list = list(set(reagent_list))\n",
    "\n",
    "print(\"Found {} recipes and {} unique ingredients.\".format(len(recipe_list), len(reagentid_list)))"
   ]
  },
  {
   "attachments": {},
   "cell_type": "markdown",
   "metadata": {},
   "source": [
    "### Read reagent ids to find their names and which mobs drop them."
   ]
  },
  {
   "cell_type": "code",
   "execution_count": 115,
   "metadata": {},
   "outputs": [],
   "source": [
    "def find_host_mobs(item_page: int, critical_chance: float = 0.1):\n",
    "    try:\n",
    "        items_on_wowhad = re.findall(\"dropped-by(.*?)\\n\\}\\);\", item_page, re.DOTALL)[0]\n",
    "    except IndexError:\n",
    "        return\n",
    "    \n",
    "    # Only keep data: onwards\n",
    "    data = re.findall(\"data:(.+)\", items_on_wowhad)[0]\n",
    "    \n",
    "    valid_enemies = {}\n",
    "    for enemy in loads(data[:-1]):\n",
    "        if enemy[\"outof\"] < 100: # Skip entries without enough data.\n",
    "            continue\n",
    "        \n",
    "        drop_chance = enemy[\"count\"]/enemy[\"outof\"]\n",
    "        mob_id = enemy[\"id\"]\n",
    "        if drop_chance < critical_chance:\n",
    "            continue\n",
    "            \n",
    "        # Round the drop chance to 2 decimal places.\n",
    "        drop_chance = float(\"{:.2f}\".format(drop_chance))\n",
    "        \n",
    "        # Add the mob to the list of valid enemies as a dictionary item.\n",
    "        valid_enemies[mob_id] = [enemy[\"name\"], drop_chance]\n",
    "    \n",
    "    return valid_enemies"
   ]
  },
  {
   "cell_type": "code",
   "execution_count": 74,
   "metadata": {},
   "outputs": [],
   "source": [
    "item_page = f\"https://www.wowhead.com/classic/item={item_list[0].id}\"\n",
    "req = requests.get(item_page, 'html.parser')\n",
    "# save the item on a temporary txt file.\n",
    "with open(\"item.txt\", \"w\") as f:\n",
    "    f.write(req.text)"
   ]
  },
  {
   "cell_type": "code",
   "execution_count": 99,
   "metadata": {},
   "outputs": [
    {
     "data": {
      "application/vnd.jupyter.widget-view+json": {
       "model_id": "afc8b6b9a7d84b3fa768c2e6bd79b902",
       "version_major": 2,
       "version_minor": 0
      },
      "text/plain": [
       "  0%|          | 0/89 [00:00<?, ?it/s]"
      ]
     },
     "metadata": {},
     "output_type": "display_data"
    }
   ],
   "source": [
    "item_list = []\n",
    "\n",
    "# We now scrape wowhead for the name of each ingredient and the mobs that drop it.\n",
    "for reagent_id in tqdm(reagentid_list):\n",
    "    item_page = f\"https://www.wowhead.com/classic/item={reagent_id}\"\n",
    "    req = requests.get(item_page, 'html.parser')\n",
    "    \n",
    "    reagent_name = re.findall(\"<title>(.*?) - Item\", req.text)[0]\n",
    "    \n",
    "    # A dictionary of the id of a mob that drops the item: the drop chance.\n",
    "    host_mobs = find_host_mobs(req.text, critical_chance = 0.1)\n",
    "    \n",
    "    item_list.append(Item(reagent_id, reagent_name, host_mobs))\n",
    "    "
   ]
  },
  {
   "cell_type": "code",
   "execution_count": 100,
   "metadata": {},
   "outputs": [
    {
     "name": "stdout",
     "output_type": "stream",
     "text": [
      "Found 671 unique mobs.\n"
     ]
    }
   ],
   "source": [
    "unique_mobs = []\n",
    "\n",
    "for item in item_list:\n",
    "    if item.dropped_by is None:\n",
    "        continue\n",
    "    \n",
    "    for mob_id, drop_chance in item.dropped_by.items():\n",
    "        unique_mobs.append(mob_id)\n",
    "\n",
    "unique_mobs = list(set(unique_mobs))\n",
    "\n",
    "# Print how many unique mobs we found.\n",
    "print(\"Found {} unique mobs.\".format(len(unique_mobs)))"
   ]
  },
  {
   "cell_type": "code",
   "execution_count": 114,
   "metadata": {},
   "outputs": [],
   "source": [
    "# Open a file to write the data to.\n",
    "# It should mimic a LUA table whose keys are the item ids.\n",
    "# The values are a dictionary of the item name and a dictionary of the mobs that drop it.\n",
    "with open(\"CookingReagents.lua\", \"w\") as f:\n",
    "    f.write(\"local BitesCookBook.ReagentData = {\\n\")\n",
    "    \n",
    "    for item in item_list:\n",
    "        f.write(\"\\t[{}] = {{\\n\".format(item.id))\n",
    "        f.write(\"\\t\\tname = \\\"{}\\\",\\n\".format(item.name))\n",
    "        \n",
    "        # Next to each id we should comment out the name of the mob.\n",
    "        if item.dropped_by is not None:\n",
    "            f.write(\"\\t\\tdropped_by = {\\n\")\n",
    "            for mob_id, (mob_name, drop_chance) in item.dropped_by.items():\n",
    "                f.write(\"\\t\\t\\t[{}] = {}, -- {}\\n\".format(mob_id, drop_chance, item.dropped_by[mob_id][0]))\n",
    "            f.write(\"\\t\\t},\\n\")\n",
    "        \n",
    "        f.write(\"\\t},\\n\")\n",
    "    f.write(\"}\\n\")\n",
    "    f.close()"
   ]
  },
  {
   "attachments": {},
   "cell_type": "markdown",
   "metadata": {},
   "source": [
    "### Read the recipe ids to find their buffs."
   ]
  },
  {
   "cell_type": "code",
   "execution_count": 118,
   "metadata": {},
   "outputs": [
    {
     "data": {
      "application/vnd.jupyter.widget-view+json": {
       "model_id": "1ca9c5b41e684ceb913db14df19764cc",
       "version_major": 2,
       "version_minor": 0
      },
      "text/plain": [
       "  0%|          | 0/81 [00:00<?, ?it/s]"
      ]
     },
     "metadata": {},
     "output_type": "display_data"
    }
   ],
   "source": [
    "# open a file that we will write the buff on.\n",
    "with open(\"buffs.txt\", 'w') as f:\n",
    "    for recipe in tqdm(recipe_list):\n",
    "        recipe_id = recipe.id\n",
    "        \n",
    "        recipe_page = f\"https://www.wowhead.com/classic/item={recipe_id}\"\n",
    "        req = requests.get(recipe_page, 'html.parser')\n",
    "        \n",
    "        try:\n",
    "            buff = re.findall(\"class=\\\"q2\\\">(.*?)</a>\", req.text, re.DOTALL)[0]\n",
    "            buff = re.findall(\">.*\", buff)[0][1:]\n",
    "            # Delete occurences of &nbsp;\n",
    "            buff = buff.replace(\"&nbsp;\", \"\")\n",
    "        except IndexError:\n",
    "            print(\"Missing tooltip for recipe id: \", recipe_id)\n",
    "            continue\n",
    "        \n",
    "        # Write the buff on a file.\n",
    "        f.write(buff)\n",
    "        f.write(\"\\n\")\n",
    "    \n",
    "    f.close()\n"
   ]
  },
  {
   "attachments": {},
   "cell_type": "markdown",
   "metadata": {},
   "source": [
    "We finally go through each recipe and create a LUA dictionary that the addon will read from."
   ]
  },
  {
   "cell_type": "code",
   "execution_count": 125,
   "metadata": {},
   "outputs": [
    {
     "name": "stdout",
     "output_type": "stream",
     "text": [
      "['2 Stamina and Spirit']\n",
      "['4 Stamina and Spirit']\n",
      "['4 Stamina and Spirit']\n",
      "['4 Stamina and Spirit']\n",
      "['4 Stamina and Spirit']\n",
      "['6 Stamina and Spirit']\n",
      "['6 Stamina and Spirit']\n",
      "['2 Stamina and Spirit']\n",
      "['4 Stamina and Spirit']\n",
      "['4 Stamina and Spirit']\n",
      "['6 Stamina and Spirit']\n",
      "['6 Stamina and Spirit']\n",
      "['6 Stamina and Spirit']\n",
      "['6 Stamina and Spirit']\n",
      "['6 Stamina and Spirit']\n",
      "['6 Stamina and Spirit']\n",
      "['8 Stamina and Spirit']\n",
      "['8 Stamina and Spirit']\n",
      "['8 Stamina and Spirit']\n",
      "['2 Stamina and Spirit']\n",
      "[]\n",
      "['2 Stamina and Spirit']\n",
      "['4 Stamina and Spirit']\n",
      "['4 Stamina and Spirit']\n",
      "['6 Stamina and Spirit']\n",
      "['6 Stamina and Spirit']\n",
      "['4 Stamina and Spirit']\n",
      "['6 Stamina and Spirit']\n",
      "['8 Stamina and Spirit']\n",
      "[]\n",
      "['2 Stamina and Spirit']\n",
      "[]\n",
      "[]\n",
      "['6 Stamina and Spirit']\n",
      "['8 Stamina and Spirit']\n",
      "['8 Stamina and Spirit']\n",
      "['8 Stamina and Spirit']\n",
      "['8 Stamina and Spirit']\n",
      "['8 Stamina and Spirit']\n",
      "[]\n",
      "['12 Stamina and Spirit']\n",
      "['12 Stamina and Spirit']\n",
      "['12 Stamina and Spirit']\n",
      "['2 Stamina and Spirit']\n",
      "[]\n",
      "[]\n",
      "[]\n",
      "[]\n",
      "[]\n",
      "[]\n",
      "['2 Stamina and Spirit']\n",
      "['2 Stamina and Spirit']\n",
      "['12 Stamina and Spirit']\n",
      "['12 Stamina and Spirit']\n",
      "[]\n",
      "['8 Stamina and Spirit']\n",
      "['20 Strength']\n",
      "['25 Stamina']\n",
      "['3 Mana every 5 seconds']\n",
      "['6 Mana every 5 seconds']\n"
     ]
    }
   ],
   "source": [
    "# Read each line in the buffs.txt file.\n",
    "with open(\"buffs.txt\", 'r') as f:\n",
    "    for line in f.readlines():\n",
    "        # If the line ends in 'while eating.', we skip it.\n",
    "        if line.endswith(\"while eating.\\n\"):\n",
    "            continue\n",
    "        \n",
    "        # We need to find if the line mentions a stats buff.\n",
    "        buff = re.findall(\"and gain (.*) for\", line)\n",
    "        print(buff)"
   ]
  },
  {
   "cell_type": "code",
   "execution_count": 9,
   "metadata": {},
   "outputs": [],
   "source": [
    "with open(\"CookingRecipes.lua\", 'w') as f:\n",
    "    f.write(\"local recipes = {\\n\")\n",
    "    \n",
    "    for i, spell in enumerate(spells):\n",
    "        spell = Recipe.read(spell)\n",
    "        \n",
    "        # Actions and profession upgrades are also saved here.\n",
    "        if type(spell) is Recipe:\n",
    "            f.write(spell.get_LUA_list(id_dict))\n",
    "    \n",
    "    f.write(\"}\\n\\n\")\n",
    "    f.write(\"BitesCookBook_Recipes = recipes\")\n",
    "    f.close()"
   ]
  },
  {
   "attachments": {},
   "cell_type": "markdown",
   "metadata": {},
   "source": [
    "# Find the buffs of the spells"
   ]
  },
  {
   "cell_type": "code",
   "execution_count": null,
   "metadata": {},
   "outputs": [],
   "source": [
    "# Some will say 'If you spend at least'...\n",
    "# While others may say 'Also increases your'\n",
    "# Others say 'Also restores'\n",
    "# there is no rule of thumb for why this happens. We just have to find a general solution to solve for stat increases and mana/health gen.\n",
    "# Some items have unique buffs too. Do we we include them, if so how?\n",
    "\n",
    "# A table of capitalized abbreviations for the stats.\n",
    "# INT = Intelligence\n",
    "# STR = Strength\n",
    "# AGI = Agility\n",
    "# STA = Stamina\n",
    "# SPI = Spirit"
   ]
  },
  {
   "cell_type": "code",
   "execution_count": 53,
   "metadata": {},
   "outputs": [],
   "source": [
    "# Write req.text on a temporary file.\n",
    "with open(\"wowhead_archive/recipe_test.html\", 'w') as f:\n",
    "    f.write(req.text)\n",
    "    f.close()"
   ]
  },
  {
   "cell_type": "code",
   "execution_count": 46,
   "metadata": {},
   "outputs": [
    {
     "data": {
      "text/plain": [
       "'61.2 health over 18 sec. &nbsp;Must remain seated while eating. &nbsp;If you spend at least 10 seconds eating you will become well fed and gain 2 Stamina and Spirit for 15 min.'"
      ]
     },
     "execution_count": 46,
     "metadata": {},
     "output_type": "execute_result"
    }
   ],
   "source": [
    "# match the part that starts from g_items[2679].tooltip_enus until the end of line.\n",
    "match = re.findall(\"Restores (.*?)<\", req.text, re.DOTALL)[0]\n",
    "match"
   ]
  }
 ],
 "metadata": {
  "kernelspec": {
   "display_name": "Python 3",
   "language": "python",
   "name": "python3"
  },
  "language_info": {
   "codemirror_mode": {
    "name": "ipython",
    "version": 3
   },
   "file_extension": ".py",
   "mimetype": "text/x-python",
   "name": "python",
   "nbconvert_exporter": "python",
   "pygments_lexer": "ipython3",
   "version": "3.9.15"
  },
  "orig_nbformat": 4,
  "vscode": {
   "interpreter": {
    "hash": "a665b5d41d17b532ea9890333293a1b812fa0b73c9c25c950b3cedf1bebd0438"
   }
  }
 },
 "nbformat": 4,
 "nbformat_minor": 2
}
