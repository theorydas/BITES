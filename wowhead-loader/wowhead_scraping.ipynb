{
 "cells": [
  {
   "cell_type": "code",
   "execution_count": 4,
   "metadata": {},
   "outputs": [],
   "source": [
    "import re\n",
    "import requests\n",
    "\n",
    "from tradeskill_reader import Item, Recipe, Misc\n",
    "from tqdm.notebook import tqdm"
   ]
  },
  {
   "cell_type": "code",
   "execution_count": 2,
   "metadata": {},
   "outputs": [],
   "source": [
    "profession_collection = \"https://www.wowhead.com/classic/spells/secondary-skills/cooking#0+17+18+1\"\n",
    "# profession_collection = \"https://www.wowhead.com/wotlk/spells/secondary-skills/cooking#0+17\"\n",
    "\n",
    "req = requests.get(profession_collection, 'html.parser')\n",
    "\n",
    "cookbook = re.findall(\"var listviewspells = \\[(.*?)\\];\", req.text)[0]\n",
    "spells = re.findall(\"\\{(.*?)\\}\", cookbook)\n",
    "\n",
    "# Save the file for later use.\n",
    "# with open(\"wowhead_archive/classic_cooking.html\", 'w') as f:\n",
    "#     f.write(req.text)\n",
    "#     f.close()"
   ]
  },
  {
   "attachments": {},
   "cell_type": "markdown",
   "metadata": {},
   "source": [
    "### Find all items and their names\n",
    "\n",
    "We only use this to comment their names in the code to improve readability."
   ]
  },
  {
   "cell_type": "code",
   "execution_count": 20,
   "metadata": {},
   "outputs": [],
   "source": [
    "items_on_wowhead = re.findall(\"WH\\.Gatherer\\.addData\\(3, 4, \\{(.*?)\\);\", req.text)[0]\n",
    "items_on_wowhead = re.findall('\"(.*?)flags2\":\\d+\\},', items_on_wowhead)"
   ]
  },
  {
   "cell_type": "code",
   "execution_count": 21,
   "metadata": {},
   "outputs": [],
   "source": [
    "items = [Item.read(item) for item in items_on_wowhead]\n",
    "id_dict = {item.id: item.name for item in items}"
   ]
  },
  {
   "attachments": {},
   "cell_type": "markdown",
   "metadata": {},
   "source": [
    "We finally go through each recipe and create a LUA dictionary that the addon will read from."
   ]
  },
  {
   "cell_type": "code",
   "execution_count": 6,
   "metadata": {},
   "outputs": [],
   "source": [
    "with open(\"CookingRecipes.lua\", 'w') as f:\n",
    "    f.write(\"local recipes = {\\n\")\n",
    "    \n",
    "    for i, spell in enumerate(spells):\n",
    "        spell = Recipe.read(spell)\n",
    "        \n",
    "        # Actions and profession upgrades are also saved here.\n",
    "        if type(spell) is Recipe:\n",
    "            f.write(spell.get_LUA_list(id_dict))\n",
    "    \n",
    "    f.write(\"}\\n\\n\")\n",
    "    f.write(\"BitesCookBook_Recipes = recipes\")\n",
    "    f.close()"
   ]
  },
  {
   "attachments": {},
   "cell_type": "markdown",
   "metadata": {},
   "source": [
    "Find mobs that drop the item."
   ]
  },
  {
   "cell_type": "code",
   "execution_count": 23,
   "metadata": {},
   "outputs": [],
   "source": [
    "from json import loads\n",
    "\n",
    "item_page = f\"https://www.wowhead.com/classic/item={2681}\"\n",
    "req = requests.get(item_page, 'html.parser')\n",
    "\n",
    "# with open(\"wowhead_archive/item_test.html\", 'w') as f:\n",
    "#     f.write(req.text)\n",
    "#     f.close()"
   ]
  },
  {
   "cell_type": "code",
   "execution_count": 41,
   "metadata": {},
   "outputs": [],
   "source": [
    "def find_host_mobs(item_id: int):\n",
    "    item_page = f\"https://www.wowhead.com/classic/item={item_id}\"\n",
    "    req = requests.get(item_page, 'html.parser')\n",
    "\n",
    "    try:\n",
    "        items_on_wowhad = re.findall(\"dropped-by(.*?)\\n\\}\\);\", req.text, re.DOTALL)[0]\n",
    "    except IndexError:\n",
    "        return\n",
    "    \n",
    "    # Only keep data: onwards\n",
    "    data = re.findall(\"data:(.+)\", items_on_wowhad)[0]\n",
    "    valid_enemies = {}\n",
    "    for enemy in loads(data[:-1]):\n",
    "        if enemy[\"outof\"] < 100:\n",
    "            continue\n",
    "        \n",
    "        drop_chance = enemy[\"count\"]/enemy[\"outof\"]\n",
    "        mob_id = enemy[\"id\"]\n",
    "        if drop_chance < 0.1:\n",
    "            continue\n",
    "        \n",
    "        # Add the mob to the list of valid enemies as a dictionary item.\n",
    "        valid_enemies[mob_id] = float(\"{:.2f}\".format(drop_chance))\n",
    "    \n",
    "    return valid_enemies"
   ]
  },
  {
   "cell_type": "code",
   "execution_count": 25,
   "metadata": {},
   "outputs": [
    {
     "data": {
      "application/vnd.jupyter.widget-view+json": {
       "model_id": "f5e14b9a230e4ccb833a12614377d465",
       "version_major": 2,
       "version_minor": 0
      },
      "text/plain": [
       "  0%|          | 0/170 [00:00<?, ?it/s]"
      ]
     },
     "metadata": {},
     "output_type": "display_data"
    },
    {
     "name": "stdout",
     "output_type": "stream",
     "text": [
      "{1132: '0.31', 10356: '0.34', 12431: '0.40', 3056: '0.33', 1133: '0.67', 1549: '0.79', 1923: '0.58', 1765: '0.80', 1138: '0.62', 1131: '0.69', 1922: '0.68', 2958: '0.59', 1547: '0.59', 2959: '0.67', 525: '0.62', 2960: '0.78', 1548: '0.68', 1766: '0.78', 118: '0.80'}\n"
     ]
    }
   ],
   "source": [
    "for item_id in tqdm(id_dict):\n",
    "    result = find_host_mobs(item_id)\n",
    "    if result is None:\n",
    "        continue\n",
    "    else:\n",
    "        print(result)\n",
    "        break"
   ]
  },
  {
   "cell_type": "code",
   "execution_count": 54,
   "metadata": {},
   "outputs": [
    {
     "data": {
      "application/vnd.jupyter.widget-view+json": {
       "model_id": "73fb51da092c4f9a8b30a5d204ce110f",
       "version_major": 2,
       "version_minor": 0
      },
      "text/plain": [
       "  0%|          | 0/170 [00:00<?, ?it/s]"
      ]
     },
     "metadata": {},
     "output_type": "display_data"
    }
   ],
   "source": [
    "with open(\"wowhead_archive/item_test.html\", 'w') as f:\n",
    "    for item_id in tqdm(id_dict):\n",
    "        result = find_host_mobs(item_id)\n",
    "        if result is None:\n",
    "            continue\n",
    "        else:\n",
    "            f.write(str(result))\n",
    "            f.write(\"\\n\")\n",
    "            # break\n",
    "    f.close()"
   ]
  },
  {
   "attachments": {},
   "cell_type": "markdown",
   "metadata": {},
   "source": [
    "# An alternative way"
   ]
  },
  {
   "cell_type": "code",
   "execution_count": 43,
   "metadata": {},
   "outputs": [
    {
     "data": {
      "application/vnd.jupyter.widget-view+json": {
       "model_id": "501fc94da79c4a4cbee39877135310cd",
       "version_major": 2,
       "version_minor": 0
      },
      "text/plain": [
       "  0%|          | 0/86 [00:00<?, ?it/s]"
      ]
     },
     "metadata": {},
     "output_type": "display_data"
    }
   ],
   "source": [
    "# For each recipe (aka spell) find its ingredient and add it to a dictionary as a key.\n",
    "# The value of the dictionary should be another dictionary with the a key named \"Name\" that has value of the item name.\n",
    "# Another key should be called \"DroppedBy\" and have a value of a dictionary with the mob id as the key and the drop chance as the value.\n",
    "recipes = [Recipe.read(spell) for spell in spells]\n",
    "ingredient_dict = {}\n",
    "\n",
    "for recipe in tqdm(recipes):\n",
    "    if type(recipe) is not Recipe:\n",
    "        continue\n",
    "    \n",
    "    for ingredient_id, ammount in recipe.reagents:\n",
    "        if ingredient_id not in ingredient_dict:\n",
    "            ingredient_dict[ingredient_id] = {\"Name\": id_dict[ingredient_id], \"DroppedBy\": find_host_mobs(ingredient_id)}\n",
    "    \n",
    "    break"
   ]
  }
 ],
 "metadata": {
  "kernelspec": {
   "display_name": "Python 3",
   "language": "python",
   "name": "python3"
  },
  "language_info": {
   "codemirror_mode": {
    "name": "ipython",
    "version": 3
   },
   "file_extension": ".py",
   "mimetype": "text/x-python",
   "name": "python",
   "nbconvert_exporter": "python",
   "pygments_lexer": "ipython3",
   "version": "3.9.15"
  },
  "orig_nbformat": 4,
  "vscode": {
   "interpreter": {
    "hash": "a665b5d41d17b532ea9890333293a1b812fa0b73c9c25c950b3cedf1bebd0438"
   }
  }
 },
 "nbformat": 4,
 "nbformat_minor": 2
}
